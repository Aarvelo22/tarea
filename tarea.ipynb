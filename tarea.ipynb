{
 "cells": [
  {
   "cell_type": "markdown",
   "metadata": {},
   "source": [
    "Características Clave de Go\n",
    "\n",
    "Simplicidad: Go tiene una sintaxis clara y concisa, lo que facilita su aprendizaje y uso.\n",
    "\n",
    "Concurrencia: Go tiene soporte nativo para la concurrencia a través de goroutines y canales, lo que permite ejecutar múltiples tareas al mismo tiempo de manera eficiente.\n",
    "\n",
    "Tipado Estático: Go es un lenguaje de tipado estático, lo que significa que los tipos de las variables se definen en tiempo de compilación.\n",
    "Gestión de Dependencias: Go incluye herramientas para gestionar dependencias de manera sencilla.\n"
   ]
  },
  {
   "cell_type": "markdown",
   "metadata": {},
   "source": [
    "Expliquemos su sintaxis "
   ]
  },
  {
   "cell_type": "markdown",
   "metadata": {},
   "source": [
    "Estructura basica"
   ]
  },
  {
   "cell_type": "code",
   "execution_count": 3,
   "metadata": {},
   "outputs": [],
   "source": [
    "package main\n",
    "\n",
    "import \"fmt\"\n",
    "\n",
    "func main() {\n",
    "    fmt.Println(\"Hola, Mundo!\")\n",
    "}\n"
   ]
  },
  {
   "cell_type": "markdown",
   "metadata": {},
   "source": [
    "package main: Define el paquete principal del programa.\n",
    "\n",
    "import \"fmt\": Importa el paquete fmt, que proporciona funciones para formatear texto, como imprimir en la consola.\n",
    "\n",
    "func main(): Define la función principal donde comienza la ejecución del programa.\n"
   ]
  },
  {
   "cell_type": "markdown",
   "metadata": {},
   "source": [
    "Existen dos formas de declarar variables la version corta o la explicita\n"
   ]
  },
  {
   "cell_type": "code",
   "execution_count": null,
   "metadata": {},
   "outputs": [],
   "source": [
    "var x int = 5\n",
    "\n",
    "u := 10\n"
   ]
  },
  {
   "cell_type": "markdown",
   "metadata": {},
   "source": [
    "De igual forma la declaracion de funciones se hace con la palabra func\n"
   ]
  },
  {
   "cell_type": "code",
   "execution_count": 4,
   "metadata": {},
   "outputs": [],
   "source": [
    "func suma(a int, b int) int{ return a + b}"
   ]
  },
  {
   "cell_type": "markdown",
   "metadata": {},
   "source": [
    "estructuras de control "
   ]
  },
  {
   "cell_type": "markdown",
   "metadata": {},
   "source": [
    "if\n"
   ]
  },
  {
   "cell_type": "code",
   "execution_count": null,
   "metadata": {},
   "outputs": [],
   "source": [
    "if x > y{\n",
    "\tfmt.println(\"x es mayor que y\")\n",
    "}else{\n",
    "\tfmt.println(\"x no es mayor que y\")\n",
    "}"
   ]
  },
  {
   "cell_type": "markdown",
   "metadata": {},
   "source": [
    "switch\n"
   ]
  },
  {
   "cell_type": "code",
   "execution_count": 5,
   "metadata": {},
   "outputs": [
    {
     "ename": "ERROR",
     "evalue": "repl.go:1:8: undefined identifier: x",
     "output_type": "error",
     "traceback": [
      "repl.go:1:8: undefined identifier: x"
     ]
    }
   ],
   "source": [
    "switch x {\n",
    "case 1:\n",
    "\tfmt.println(\"x es uno\")\n",
    "case 2: \n",
    "\tfmt.println(\"x es dos\")\n",
    "default:\n",
    "\tfmt.println(\"x es otro numero\")\n",
    "\n",
    "\t\n",
    "\n",
    "\t\n",
    "}"
   ]
  },
  {
   "cell_type": "markdown",
   "metadata": {},
   "source": [
    "for  :\n"
   ]
  },
  {
   "cell_type": "code",
   "execution_count": 6,
   "metadata": {},
   "outputs": [
    {
     "ename": "ERROR",
     "evalue": "repl.go:2:2: not a type: fmt.println <*ast.SelectorExpr>",
     "output_type": "error",
     "traceback": [
      "repl.go:2:2: not a type: fmt.println <*ast.SelectorExpr>"
     ]
    }
   ],
   "source": [
    "for i := 0; i < 5; i++ {\n",
    "\tfmt.println(i)\n",
    "}"
   ]
  },
  {
   "cell_type": "markdown",
   "metadata": {},
   "source": []
  },
  {
   "cell_type": "markdown",
   "metadata": {},
   "source": [
    "Estructuras y metodos\n"
   ]
  },
  {
   "cell_type": "code",
   "execution_count": 7,
   "metadata": {},
   "outputs": [
    {
     "ename": "ERROR",
     "evalue": "repl.go:7:2: package fmt \"fmt\" has no symbol printf",
     "output_type": "error",
     "traceback": [
      "repl.go:7:2: package fmt \"fmt\" has no symbol printf"
     ]
    }
   ],
   "source": [
    "type persona struct {\n",
    "\tnombre string\n",
    "\tedad   int\n",
    "}\n",
    "\n",
    "func (p persona)  presentarse() {\n",
    "\tfmt.printf(\"Hola, soy %s y tengo %d años. \\n\", p.nombre, p.edad)\n",
    "\t\n",
    "}\n",
    "\n",
    "func main() {\n",
    "\tp := persona{\"juan\", 30}\n",
    "\tp.presentarse()\n",
    "}"
   ]
  },
  {
   "cell_type": "markdown",
   "metadata": {},
   "source": [
    "concurrencia en GO"
   ]
  },
  {
   "cell_type": "markdown",
   "metadata": {},
   "source": [
    "Go tiene un modelo de concurrencia muy poderoso a través de goroutines y canales:"
   ]
  },
  {
   "cell_type": "code",
   "execution_count": null,
   "metadata": {},
   "outputs": [],
   "source": [
    "func tarea(){\n",
    "\tfmt.println(\"ejecuntando una tarea en goroutine\")\n",
    "\n",
    "}\n",
    "\n",
    "func main(){\n",
    "\tgo tarea() // lanza una goroutine\n",
    "\tfmt.println(\"ejecuntando en la funcion principal\")\n",
    "\ttime.sleep(1 * time.SECONDS) // espera que la goroutine termine\n",
    "}"
   ]
  }
 ],
 "metadata": {
  "kernelspec": {
   "display_name": "Go",
   "language": "go",
   "name": "gophernotes"
  },
  "language_info": {
   "codemirror_mode": "",
   "file_extension": ".go",
   "mimetype": "",
   "name": "go",
   "nbconvert_exporter": "",
   "pygments_lexer": "",
   "version": "go1.23.5"
  }
 },
 "nbformat": 4,
 "nbformat_minor": 2
}
